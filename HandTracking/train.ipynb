{
 "cells": [
  {
   "cell_type": "code",
   "execution_count": 15,
   "id": "initial_id",
   "metadata": {
    "collapsed": true,
    "ExecuteTime": {
     "end_time": "2024-05-26T16:57:05.352011Z",
     "start_time": "2024-05-26T16:57:05.347398Z"
    }
   },
   "outputs": [],
   "source": [
    "import numpy as np\n",
    "import os\n",
    "\n",
    "os.environ['CUDA_VISIBLE_DEVICES'] = '1'\n",
    "os.environ['TF_FORCE_GPU_ALLOW_GROWTH'] = 'true'"
   ]
  },
  {
   "cell_type": "code",
   "outputs": [
    {
     "data": {
      "text/plain": "(8195, 30, 100)"
     },
     "execution_count": 16,
     "metadata": {},
     "output_type": "execute_result"
    }
   ],
   "source": [
    "actions = [\n",
    "    'Hello',\n",
    "    'Meet',\n",
    "    'NiceTMY',\n",
    "    'I',\n",
    "    'Name',\n",
    "    'You',\n",
    "    'Today',\n",
    "    'Weather',\n",
    "    'Good',\n",
    "    'Thankyou',\n",
    "    'Sorry'\n",
    "]\n",
    "\n",
    "data = np.concatenate([\n",
    "    np.load('dataset/seq_Hello_1716742569.npy'),\n",
    "    np.load('dataset/seq_Meet_1716741759.npy'),\n",
    "    np.load('dataset/seq_NiceTMY_1716741759.npy'),\n",
    "    np.load('dataset/seq_I_1715840691.npy'),\n",
    "    np.load('dataset/seq_Name_1715840691.npy'),\n",
    "    np.load('dataset/seq_You_1716591701.npy'),\n",
    "    np.load('dataset/seq_Today_1716741759.npy'),\n",
    "    np.load('dataset/seq_Weather_1716741759.npy'),\n",
    "    np.load('dataset/seq_Good_1716741759.npy'),\n",
    "    np.load('dataset/seq_Thankyou_1716591701.npy'),\n",
    "    np.load('dataset/seq_Sorry_1716591701.npy')\n",
    "], axis=0)\n",
    "\n",
    "data.shape"
   ],
   "metadata": {
    "collapsed": false,
    "ExecuteTime": {
     "end_time": "2024-05-26T16:57:05.656720Z",
     "start_time": "2024-05-26T16:57:05.362027Z"
    }
   },
   "id": "99865c236b62dfa5",
   "execution_count": 16
  },
  {
   "cell_type": "code",
   "outputs": [
    {
     "name": "stdout",
     "output_type": "stream",
     "text": [
      "(8195, 30, 99)\n",
      "(8195,)\n"
     ]
    }
   ],
   "source": [
    "x_data = data[:, :, :-1]\n",
    "labels = data[:, 0, -1]\n",
    "\n",
    "print(x_data.shape)\n",
    "print(labels.shape)"
   ],
   "metadata": {
    "collapsed": false,
    "ExecuteTime": {
     "end_time": "2024-05-26T16:57:05.690609Z",
     "start_time": "2024-05-26T16:57:05.658735Z"
    }
   },
   "id": "ef9152e86c5c1c63",
   "execution_count": 17
  },
  {
   "cell_type": "code",
   "outputs": [
    {
     "name": "stdout",
     "output_type": "stream",
     "text": [
      "(8195, 11)\n"
     ]
    }
   ],
   "source": [
    "import tensorflow as tf\n",
    "\n",
    "num_classes = len(actions)\n",
    "\n",
    "y_data = tf.one_hot(labels.astype(np.int32), depth=num_classes)\n",
    "print(y_data.shape)"
   ],
   "metadata": {
    "collapsed": false,
    "ExecuteTime": {
     "end_time": "2024-05-26T16:57:05.698754Z",
     "start_time": "2024-05-26T16:57:05.691620Z"
    }
   },
   "id": "72281b92d526d17",
   "execution_count": 18
  },
  {
   "cell_type": "code",
   "outputs": [
    {
     "name": "stdout",
     "output_type": "stream",
     "text": [
      "(7375, 30, 99) (7375, 11)\n",
      "(820, 30, 99) (820, 11)\n"
     ]
    }
   ],
   "source": [
    "from sklearn.model_selection import train_test_split\n",
    "\n",
    "# Convert data to NumPy arrays\n",
    "x_data = x_data.astype(np.float32)\n",
    "y_data = y_data.numpy()  # Convert tensor to NumPy array\n",
    "\n",
    "x_train, x_val, y_train, y_val = train_test_split(x_data, y_data, test_size=0.1, random_state=2021)\n",
    "\n",
    "print(x_train.shape, y_train.shape)\n",
    "print(x_val.shape, y_val.shape)"
   ],
   "metadata": {
    "collapsed": false,
    "ExecuteTime": {
     "end_time": "2024-05-26T16:57:05.793735Z",
     "start_time": "2024-05-26T16:57:05.700766Z"
    }
   },
   "id": "d7d9945feb7a1833",
   "execution_count": 19
  },
  {
   "cell_type": "code",
   "outputs": [
    {
     "data": {
      "text/plain": "\u001B[1mModel: \"sequential_2\"\u001B[0m\n",
      "text/html": "<pre style=\"white-space:pre;overflow-x:auto;line-height:normal;font-family:Menlo,'DejaVu Sans Mono',consolas,'Courier New',monospace\"><span style=\"font-weight: bold\">Model: \"sequential_2\"</span>\n</pre>\n"
     },
     "metadata": {},
     "output_type": "display_data"
    },
    {
     "data": {
      "text/plain": "┏━━━━━━━━━━━━━━━━━━━━━━━━━━━━━━━━━┳━━━━━━━━━━━━━━━━━━━━━━━━┳━━━━━━━━━━━━━━━┓\n┃\u001B[1m \u001B[0m\u001B[1mLayer (type)                   \u001B[0m\u001B[1m \u001B[0m┃\u001B[1m \u001B[0m\u001B[1mOutput Shape          \u001B[0m\u001B[1m \u001B[0m┃\u001B[1m \u001B[0m\u001B[1m      Param #\u001B[0m\u001B[1m \u001B[0m┃\n┡━━━━━━━━━━━━━━━━━━━━━━━━━━━━━━━━━╇━━━━━━━━━━━━━━━━━━━━━━━━╇━━━━━━━━━━━━━━━┩\n│ lstm_2 (\u001B[38;5;33mLSTM\u001B[0m)                   │ (\u001B[38;5;45mNone\u001B[0m, \u001B[38;5;34m64\u001B[0m)             │        \u001B[38;5;34m41,984\u001B[0m │\n├─────────────────────────────────┼────────────────────────┼───────────────┤\n│ dense_4 (\u001B[38;5;33mDense\u001B[0m)                 │ (\u001B[38;5;45mNone\u001B[0m, \u001B[38;5;34m32\u001B[0m)             │         \u001B[38;5;34m2,080\u001B[0m │\n├─────────────────────────────────┼────────────────────────┼───────────────┤\n│ dense_5 (\u001B[38;5;33mDense\u001B[0m)                 │ (\u001B[38;5;45mNone\u001B[0m, \u001B[38;5;34m11\u001B[0m)             │           \u001B[38;5;34m363\u001B[0m │\n└─────────────────────────────────┴────────────────────────┴───────────────┘\n",
      "text/html": "<pre style=\"white-space:pre;overflow-x:auto;line-height:normal;font-family:Menlo,'DejaVu Sans Mono',consolas,'Courier New',monospace\">┏━━━━━━━━━━━━━━━━━━━━━━━━━━━━━━━━━┳━━━━━━━━━━━━━━━━━━━━━━━━┳━━━━━━━━━━━━━━━┓\n┃<span style=\"font-weight: bold\"> Layer (type)                    </span>┃<span style=\"font-weight: bold\"> Output Shape           </span>┃<span style=\"font-weight: bold\">       Param # </span>┃\n┡━━━━━━━━━━━━━━━━━━━━━━━━━━━━━━━━━╇━━━━━━━━━━━━━━━━━━━━━━━━╇━━━━━━━━━━━━━━━┩\n│ lstm_2 (<span style=\"color: #0087ff; text-decoration-color: #0087ff\">LSTM</span>)                   │ (<span style=\"color: #00d7ff; text-decoration-color: #00d7ff\">None</span>, <span style=\"color: #00af00; text-decoration-color: #00af00\">64</span>)             │        <span style=\"color: #00af00; text-decoration-color: #00af00\">41,984</span> │\n├─────────────────────────────────┼────────────────────────┼───────────────┤\n│ dense_4 (<span style=\"color: #0087ff; text-decoration-color: #0087ff\">Dense</span>)                 │ (<span style=\"color: #00d7ff; text-decoration-color: #00d7ff\">None</span>, <span style=\"color: #00af00; text-decoration-color: #00af00\">32</span>)             │         <span style=\"color: #00af00; text-decoration-color: #00af00\">2,080</span> │\n├─────────────────────────────────┼────────────────────────┼───────────────┤\n│ dense_5 (<span style=\"color: #0087ff; text-decoration-color: #0087ff\">Dense</span>)                 │ (<span style=\"color: #00d7ff; text-decoration-color: #00d7ff\">None</span>, <span style=\"color: #00af00; text-decoration-color: #00af00\">11</span>)             │           <span style=\"color: #00af00; text-decoration-color: #00af00\">363</span> │\n└─────────────────────────────────┴────────────────────────┴───────────────┘\n</pre>\n"
     },
     "metadata": {},
     "output_type": "display_data"
    },
    {
     "data": {
      "text/plain": "\u001B[1m Total params: \u001B[0m\u001B[38;5;34m44,427\u001B[0m (173.54 KB)\n",
      "text/html": "<pre style=\"white-space:pre;overflow-x:auto;line-height:normal;font-family:Menlo,'DejaVu Sans Mono',consolas,'Courier New',monospace\"><span style=\"font-weight: bold\"> Total params: </span><span style=\"color: #00af00; text-decoration-color: #00af00\">44,427</span> (173.54 KB)\n</pre>\n"
     },
     "metadata": {},
     "output_type": "display_data"
    },
    {
     "data": {
      "text/plain": "\u001B[1m Trainable params: \u001B[0m\u001B[38;5;34m44,427\u001B[0m (173.54 KB)\n",
      "text/html": "<pre style=\"white-space:pre;overflow-x:auto;line-height:normal;font-family:Menlo,'DejaVu Sans Mono',consolas,'Courier New',monospace\"><span style=\"font-weight: bold\"> Trainable params: </span><span style=\"color: #00af00; text-decoration-color: #00af00\">44,427</span> (173.54 KB)\n</pre>\n"
     },
     "metadata": {},
     "output_type": "display_data"
    },
    {
     "data": {
      "text/plain": "\u001B[1m Non-trainable params: \u001B[0m\u001B[38;5;34m0\u001B[0m (0.00 B)\n",
      "text/html": "<pre style=\"white-space:pre;overflow-x:auto;line-height:normal;font-family:Menlo,'DejaVu Sans Mono',consolas,'Courier New',monospace\"><span style=\"font-weight: bold\"> Non-trainable params: </span><span style=\"color: #00af00; text-decoration-color: #00af00\">0</span> (0.00 B)\n</pre>\n"
     },
     "metadata": {},
     "output_type": "display_data"
    }
   ],
   "source": [
    "from tensorflow.keras import Sequential\n",
    "from tensorflow.keras.layers import LSTM, Dense, Input\n",
    "\n",
    "model = Sequential([\n",
    "    Input(shape=x_train.shape[1:3]),\n",
    "    LSTM(64, activation='relu'),\n",
    "    Dense(32, activation='relu'),\n",
    "    Dense(len(actions), activation='softmax')\n",
    "])\n",
    "\n",
    "model.compile(optimizer='adam', loss='categorical_crossentropy', metrics=['acc'])\n",
    "model.summary()"
   ],
   "metadata": {
    "collapsed": false,
    "ExecuteTime": {
     "end_time": "2024-05-26T16:57:05.859699Z",
     "start_time": "2024-05-26T16:57:05.794746Z"
    }
   },
   "id": "ecaf9f1164df1e7d",
   "execution_count": 20
  },
  {
   "cell_type": "code",
   "outputs": [
    {
     "name": "stdout",
     "output_type": "stream",
     "text": [
      "Epoch 1/10\n",
      "\u001B[1m231/231\u001B[0m \u001B[32m━━━━━━━━━━━━━━━━━━━━\u001B[0m\u001B[37m\u001B[0m \u001B[1m13s\u001B[0m 30ms/step - acc: 0.2627 - loss: 30.1815 - val_acc: 0.3805 - val_loss: 8.3176\n",
      "Epoch 2/10\n",
      "\u001B[1m231/231\u001B[0m \u001B[32m━━━━━━━━━━━━━━━━━━━━\u001B[0m\u001B[37m\u001B[0m \u001B[1m6s\u001B[0m 24ms/step - acc: 0.5317 - loss: 6.5419 - val_acc: 0.5927 - val_loss: 2.5595\n",
      "Epoch 3/10\n",
      "\u001B[1m231/231\u001B[0m \u001B[32m━━━━━━━━━━━━━━━━━━━━\u001B[0m\u001B[37m\u001B[0m \u001B[1m5s\u001B[0m 23ms/step - acc: 0.6361 - loss: 2.1034 - val_acc: 0.6793 - val_loss: 1.5324\n",
      "Epoch 4/10\n",
      "\u001B[1m231/231\u001B[0m \u001B[32m━━━━━━━━━━━━━━━━━━━━\u001B[0m\u001B[37m\u001B[0m \u001B[1m5s\u001B[0m 20ms/step - acc: 0.7116 - loss: 1.2781 - val_acc: 0.7061 - val_loss: 1.1725\n",
      "Epoch 5/10\n",
      "\u001B[1m231/231\u001B[0m \u001B[32m━━━━━━━━━━━━━━━━━━━━\u001B[0m\u001B[37m\u001B[0m \u001B[1m4s\u001B[0m 17ms/step - acc: 0.3562 - loss: 24.9815 - val_acc: 0.4134 - val_loss: 5.2974\n",
      "Epoch 6/10\n",
      "\u001B[1m231/231\u001B[0m \u001B[32m━━━━━━━━━━━━━━━━━━━━\u001B[0m\u001B[37m\u001B[0m \u001B[1m4s\u001B[0m 18ms/step - acc: 0.4723 - loss: 4.1427 - val_acc: 0.5671 - val_loss: 2.9830\n",
      "Epoch 7/10\n",
      "\u001B[1m231/231\u001B[0m \u001B[32m━━━━━━━━━━━━━━━━━━━━\u001B[0m\u001B[37m\u001B[0m \u001B[1m4s\u001B[0m 17ms/step - acc: 0.5287 - loss: 2.9459 - val_acc: 0.5427 - val_loss: 2.4302\n",
      "Epoch 8/10\n",
      "\u001B[1m231/231\u001B[0m \u001B[32m━━━━━━━━━━━━━━━━━━━━\u001B[0m\u001B[37m\u001B[0m \u001B[1m4s\u001B[0m 15ms/step - acc: 0.5550 - loss: 2.3118 - val_acc: 0.5695 - val_loss: 2.0200\n",
      "Epoch 9/10\n",
      "\u001B[1m231/231\u001B[0m \u001B[32m━━━━━━━━━━━━━━━━━━━━\u001B[0m\u001B[37m\u001B[0m \u001B[1m3s\u001B[0m 15ms/step - acc: 0.5952 - loss: 1.8931 - val_acc: 0.6073 - val_loss: 1.7992\n",
      "Epoch 10/10\n",
      "\u001B[1m231/231\u001B[0m \u001B[32m━━━━━━━━━━━━━━━━━━━━\u001B[0m\u001B[37m\u001B[0m \u001B[1m4s\u001B[0m 16ms/step - acc: 0.5957 - loss: 1.8928 - val_acc: 0.6171 - val_loss: 1.6144\n"
     ]
    },
    {
     "name": "stderr",
     "output_type": "stream",
     "text": [
      "WARNING:absl:You are saving your model as an HDF5 file via `model.save()` or `keras.saving.save_model(model)`. This file format is considered legacy. We recommend using instead the native Keras format, e.g. `model.save('my_model.keras')` or `keras.saving.save_model(model, 'my_model.keras')`. \n"
     ]
    },
    {
     "name": "stdout",
     "output_type": "stream",
     "text": [
      "\u001B[1m26/26\u001B[0m \u001B[32m━━━━━━━━━━━━━━━━━━━━\u001B[0m\u001B[37m\u001B[0m \u001B[1m1s\u001B[0m 18ms/step\n",
      "[[ 33  10   0   0   0   0   0]\n",
      " [ 32  56   0   0   1   1   0]\n",
      " [  1   3  81   0   0   0   0]\n",
      " [  6   0   0 102   0  38   0]\n",
      " [ 23   8   4  18  91  49  10]\n",
      " [  3   0   0  52   0  82   5]\n",
      " [  8   0   3  21   3  15  61]]\n",
      "              precision    recall  f1-score   support\n",
      "\n",
      "       Hello       0.31      0.77      0.44        43\n",
      "        Meet       0.73      0.62      0.67        90\n",
      "     NiceTMY       0.92      0.95      0.94        85\n",
      "           I       0.53      0.70      0.60       146\n",
      "        Name       0.96      0.45      0.61       203\n",
      "         You       0.44      0.58      0.50       142\n",
      "       Today       0.80      0.55      0.65       111\n",
      "\n",
      "    accuracy                           0.62       820\n",
      "   macro avg       0.67      0.66      0.63       820\n",
      "weighted avg       0.71      0.62      0.63       820\n"
     ]
    }
   ],
   "source": [
    "from sklearn.metrics import confusion_matrix, classification_report\n",
    "# from tensorflow import load_model\n",
    "import tensorflow as tf\n",
    "\n",
    "# Train the model\n",
    "model.fit(x_train, y_train, validation_data=(x_val, y_val), epochs=10, batch_size=32)\n",
    "\n",
    "# Save the model\n",
    "model.save('models/model.h5')\n",
    "\n",
    "model_path = 'models/model.h5'\n",
    "model = tf.keras.models.load_model(model_path, compile=False)\n",
    "\n",
    "y_pred = model.predict(x_val)\n",
    "\n",
    "# Convert predictions and true labels to integer indices\n",
    "y_val_int = np.argmax(y_val, axis=1).astype(np.int32)\n",
    "y_pred_int = np.argmax(y_pred, axis=1).astype(np.int32)\n",
    "\n",
    "# Ensure all classes are represented in the confusion matrix and classification report\n",
    "labels_in_data = sorted(set(y_val_int).union(set(y_pred_int)))\n",
    "\n",
    "# Compute confusion matrix\n",
    "conf_matrix = confusion_matrix(y_val_int, y_pred_int, labels=labels_in_data)\n",
    "print(conf_matrix)\n",
    "\n",
    "# Classification report\n",
    "class_report = classification_report(y_val_int, y_pred_int, target_names=[actions[i] for i in labels_in_data])\n",
    "print(class_report)\n",
    "# def multilabel_confusion_matrix(y_true, y_pred):\n",
    "#     pass\n",
    "# \n",
    "# \n",
    "# multilabel_confusion_matrix(np.argmax(y_val, axis=1), np.argmax(y_pred, axis=1))"
   ],
   "metadata": {
    "collapsed": false,
    "ExecuteTime": {
     "end_time": "2024-05-26T16:57:58.617674Z",
     "start_time": "2024-05-26T16:57:05.861873Z"
    }
   },
   "id": "bf4bc78d977577a5",
   "execution_count": 21
  }
 ],
 "metadata": {
  "kernelspec": {
   "display_name": "Python 3",
   "language": "python",
   "name": "python3"
  },
  "language_info": {
   "codemirror_mode": {
    "name": "ipython",
    "version": 2
   },
   "file_extension": ".py",
   "mimetype": "text/x-python",
   "name": "python",
   "nbconvert_exporter": "python",
   "pygments_lexer": "ipython2",
   "version": "2.7.6"
  }
 },
 "nbformat": 4,
 "nbformat_minor": 5
}
