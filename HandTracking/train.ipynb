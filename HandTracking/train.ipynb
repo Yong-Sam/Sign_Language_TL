{
 "cells": [
  {
   "cell_type": "code",
   "execution_count": null,
   "id": "initial_id",
   "metadata": {
    "collapsed": true
   },
   "outputs": [],
   "source": [
    "import numpy as np\n",
    "import os\n",
    "\n",
    "os.environ['CUDA_VISIBLE_DEVICES'] = '1'\n",
    "os.environ['TF_FORCE_GPU_ALLOW_GROWTH'] = 'true'"
   ]
  },
  {
   "cell_type": "code",
   "outputs": [],
   "source": [
    "actions = {\n",
    "    'Hello',\n",
    "    'Meet',\n",
    "    'NiceTMY',\n",
    "    'I',\n",
    "    'Name'\n",
    "}\n",
    "\n",
    "data = np.concatenate([\n",
    "    np.load('dataset/.npy'),\n",
    "    np.load('dataset/.npy'),\n",
    "    np.load('dataset/.npy'),\n",
    "    np.load('dataset/.npy'),\n",
    "    np.load('dataset/.npy')\n",
    "], axis=0)\n",
    "\n",
    "data.shape"
   ],
   "metadata": {
    "collapsed": false
   },
   "id": "99865c236b62dfa5"
  },
  {
   "cell_type": "code",
   "outputs": [],
   "source": [
    "x_data = data[:, :, :-1]\n",
    "labels = data[:, 0, -1]\n",
    "\n",
    "print(x_data.shape)\n",
    "print(labels.shape)"
   ],
   "metadata": {
    "collapsed": false
   },
   "id": "ef9152e86c5c1c63"
  },
  {
   "cell_type": "code",
   "outputs": [],
   "source": [
    "import tensorflow as tf\n",
    "\n",
    "num_classes = len(actions)\n",
    "\n",
    "y_data = tf.one_hot(labels, depth=num_classes)\n",
    "y_data.shape"
   ],
   "metadata": {
    "collapsed": false
   },
   "id": "72281b92d526d17"
  },
  {
   "cell_type": "code",
   "outputs": [],
   "source": [
    "from sklearn.model_selection import train_test_split\n",
    "\n",
    "x_data = x_data.astype(np.float32)\n",
    "y_data = y_data.astype(np.float32)\n",
    "\n",
    "x_train, x_val, y_train, y_val = train_test_split(x_data, y_data, test_size=0.1, random_state=2021)\n",
    "\n",
    "print(x_train.shape, y_train.shape)\n",
    "print(x_val.shape, y_val.shape)"
   ],
   "metadata": {
    "collapsed": false
   },
   "id": "d7d9945feb7a1833"
  },
  {
   "cell_type": "code",
   "outputs": [],
   "source": [
    "from tensorflow.keras import Sequential\n",
    "from tensorflow.keras.layers import LSTM, Dense\n",
    "\n",
    "model = Sequential([\n",
    "    LSTM(64, activation='relu', input_shape=x_train.shape[1:3]),\n",
    "    Dense(32, activation='relu'),\n",
    "    Dense(len(actions), activation='softmax')\n",
    "])\n",
    "\n",
    "model.compile(optimizer='admin', loss='categorical_crossentropy', metrics=['acc'])\n",
    "model.summary()"
   ],
   "metadata": {
    "collapsed": false
   },
   "id": "ecaf9f1164df1e7d"
  },
  {
   "cell_type": "code",
   "outputs": [],
   "source": [
    "from sklearn.metrics import multilabel_confusion_matrix\n",
    "from tensorflow import load_model\n",
    "\n",
    "model = load_model('models/model.h5', compile=False)\n",
    "\n",
    "y_pred = model.predict(x_val)\n",
    "\n",
    "\n",
    "def multilabel_confusion_matrix(y_true, y_pred):\n",
    "    pass\n",
    "\n",
    "\n",
    "multilabel_confusion_matrix(np.argmax(y_val, axis=1), np.argmax(y_pred, axis=1))"
   ],
   "metadata": {
    "collapsed": false
   },
   "id": "bf4bc78d977577a5"
  }
 ],
 "metadata": {
  "kernelspec": {
   "display_name": "Python 3",
   "language": "python",
   "name": "python3"
  },
  "language_info": {
   "codemirror_mode": {
    "name": "ipython",
    "version": 2
   },
   "file_extension": ".py",
   "mimetype": "text/x-python",
   "name": "python",
   "nbconvert_exporter": "python",
   "pygments_lexer": "ipython2",
   "version": "2.7.6"
  }
 },
 "nbformat": 4,
 "nbformat_minor": 5
}
